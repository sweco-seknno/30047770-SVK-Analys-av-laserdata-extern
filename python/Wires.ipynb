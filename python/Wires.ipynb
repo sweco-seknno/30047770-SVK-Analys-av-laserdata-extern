{
 "cells": [
  {
   "cell_type": "markdown",
   "metadata": {},
   "source": [
    "# Wires från dgn till gdb\n",
    "## fas och topp för sig\n",
    "## littera som attribut"
   ]
  },
  {
   "cell_type": "code",
   "execution_count": 5,
   "metadata": {},
   "outputs": [],
   "source": [
    "# Läs settings\n",
    "import json\n",
    "\n",
    "settings_file = r\"Q:\\Projekt\\Data_2024\\styrfiler\\settings_SEKNNO.json\"\n",
    "\n",
    "with open(settings_file, 'r', encoding='utf-8') as file:\n",
    "    settings = json.load(file)"
   ]
  },
  {
   "cell_type": "code",
   "execution_count": 6,
   "metadata": {},
   "outputs": [
    {
     "data": {
      "text/plain": [
       "{'run_ID': 'test_241218', 'powerline_list': 'Q:/Projekt/Data_2024/styrfiler/veg_kanttrad_test.txt', 'local_folder': 'C:/SVK_2024/pythonkörningar', 'tmp_gdb_template': 'Q:/Projekt/Data_2024/tmp_template.gdb', 'results_gdb_template': 'Q:/Projekt/Data_2024/results_template.gdb', 'wires_gdb_template': 'Q:/Projekt/Data_2024/wires_template.gdb', 'dgn_folder': 'Q:/Projekt/Analys_2024/DGN_2024', 'powerlines_folder': 'Q:/Projekt/Analys_2024/ledningar', 'domains_folder': 'Q:/Projekt/Data_2024/Underlag_SVK/Domains'}"
      ]
     },
     "execution_count": 6,
     "metadata": {},
     "output_type": "execute_result"
    }
   ],
   "source": [
    "settings"
   ]
  },
  {
   "cell_type": "code",
   "execution_count": 11,
   "metadata": {},
   "outputs": [
    {
     "name": "stdout",
     "output_type": "stream",
     "text": [
      "C:/SVK_2024/pythonkörningar\\wires_test_241218.gdb finns redan\n",
      "Påbörjar export av fas- och topplinor för LG006_1, UL29\n",
      "Påbörjar export av fas- och topplinor för LG006_2, UL4 S1-2\n"
     ]
    },
    {
     "data": {
      "text/plain": [
       "0    None\n",
       "1    None\n",
       "dtype: object"
      ]
     },
     "execution_count": 11,
     "metadata": {},
     "output_type": "execute_result"
    }
   ],
   "source": [
    "import arcpy, os, glob\n",
    "import pandas as pd\n",
    "import shutil\n",
    "\n",
    "run_ID = settings[\"run_ID\"]\n",
    "powerline_list = settings[\"powerline_list\"]\n",
    "local_dir = settings[\"local_folder\"]\n",
    "dgn_dir = settings[\"dgn_folder\"]\n",
    "wires_gdb_template = settings[\"wires_gdb_template\"]\n",
    "domains_folder = settings[\"domains_folder\"]\n",
    "\n",
    "cvd_LEDNINGSGATA_path = os.path.join(domains_folder, \"cvd_LEDNINGSGATA.txt\")\n",
    "wires_gdb = os.path.join(local_dir, f\"wires_{run_ID}.gdb\")\n",
    "\n",
    "# Create wire gdb as copy of template\n",
    "if os.path.exists(wires_gdb):\n",
    "    print(f\"{wires_gdb} finns redan\")\n",
    "else: \n",
    "    shutil.copytree(wires_gdb_template, wires_gdb)\n",
    "\n",
    "arcpy.env.overwriteOutput = True\n",
    "\n",
    "def wires_to_gdb(row):\n",
    "    # Ange i definitionen att row är en pandas serie\n",
    "    LG = row[\"LG\"]\n",
    "    line = row[\"line\"]\n",
    "    littera = row[\"Littera\"]\n",
    "    LG_code = cvd_LEDNINGSGATA[LG]\n",
    "    \n",
    "    print(f\"Påbörjar export av fas- och topplinor för {LG}_{line}, {littera}\")\n",
    "    \n",
    "    dgn = os.path.join(dgn_dir, f\"{LG}_{line}.dgn\")\n",
    "    arcpy.env.workspace = dgn_dir # Varför ska den ha dgn dir som workspace?\n",
    "    \n",
    "    # faslinor\n",
    "    fc_fas = f\"{LG}_{line}_fas\"\n",
    "    # Create a value table that will hold the input feature classes for Merge\n",
    "    vTab_fas = arcpy.ValueTable()\n",
    "    layer_fas = \"Layer_fas\"\n",
    "    arcpy.Delete_management(layer_fas)\n",
    "    arcpy.MakeFeatureLayer_management(dgn + '/Polyline', layer_fas, \"\\\"Level\\\" = 1\")\n",
    "    vTab_fas.addRow(layer_fas)\n",
    "        \n",
    "    # topplinor\n",
    "    fc_topp = f\"{LG}_{line}_topp\"\n",
    "    # Create a value table that will hold the input feature classes for Merge\n",
    "    vTab_topp = arcpy.ValueTable()\n",
    "    layer_topp = \"Layer_topp\"\n",
    "    arcpy.Delete_management(layer_topp)\n",
    "    arcpy.MakeFeatureLayer_management(dgn + '/Polyline', layer_topp, \"\\\"Level\\\" = 2\")\n",
    "    vTab_topp.addRow(layer_topp)\n",
    "    \n",
    "    # Merge the CAD features into one feature class\n",
    "    arcpy.env.workspace = wires_gdb\n",
    "    \n",
    "    # faslinor\n",
    "    arcpy.Merge_management(vTab_fas, fc_fas)\n",
    "    # Add and populate littera field\n",
    "    arcpy.management.AddField(fc_fas, \"Littera\", \"TEXT\")\n",
    "    arcpy.management.CalculateField(fc_fas, \"Littera\", \"\".join((\"'\",littera,\"'\")))\n",
    "    arcpy.management.AddField(fc_fas, \"LG\", \"LONG\")\n",
    "    arcpy.management.CalculateField(fc_fas, \"LG\", int(LG_code))\n",
    "    arcpy.management.AddField(fc_fas, \"lintyp\", \"TEXT\")\n",
    "    arcpy.management.CalculateField(fc_fas, \"lintyp\", \"'ledare'\")\n",
    "    # domains\n",
    "    arcpy.management.AssignDomainToField(fc_fas, \"LG\", \"cvd_LEDNINGSGATA\")\n",
    "    arcpy.management.AssignDomainToField(fc_fas, \"Littera\", \"cvd_LITTERA_LEDNING\")\n",
    "    \n",
    "    # ta bort fält som inte ska användas DETTA BEHÖVER GÖRAS PÅ BÅDE FAS OCH TOPP MEN NUVARANDE \n",
    "    # UPPREPNING ÄR KLUMPIG\n",
    "    keep_fields = [\"LG\", \"Littera\", \"lintyp\", \"Shape\", \"Shape_Length\", \"OBJECTID\"]\n",
    "    all_fields = arcpy.ListFields(fc_fas)\n",
    "    fields_to_delete = [field.name for field in all_fields if field.name not in keep_fields]\n",
    "    if fields_to_delete:\n",
    "        arcpy.DeleteField_management(fc_fas, fields_to_delete)   \n",
    "\n",
    "    # Räkna faslinor, varna om inga finns\n",
    "    arcpy.management.DefineProjection(fc_fas, sr)\n",
    "    result = arcpy.management.GetCount(fc_fas)\n",
    "    count = int(result[0])\n",
    "    if count == 0:\n",
    "        print(f\"VARNING: Inga faslinor hittades i level 1 i {LG}_{line}.dgn\")\n",
    "    \n",
    "    # topplinor\n",
    "    arcpy.Merge_management(vTab_topp, fc_topp)\n",
    "    # Add and populate littera field\n",
    "    arcpy.management.AddField(fc_topp, \"Littera\", \"TEXT\")\n",
    "    arcpy.management.CalculateField(fc_topp, \"Littera\", \"\".join((\"'\",littera,\"'\")))\n",
    "    arcpy.management.AddField(fc_topp, \"LG\", \"LONG\")\n",
    "    arcpy.management.CalculateField(fc_topp, \"LG\", int(LG_code))\n",
    "    arcpy.management.AddField(fc_topp, \"lintyp\", \"TEXT\")\n",
    "    arcpy.management.CalculateField(fc_topp, \"lintyp\", \"'topplina'\")\n",
    "    # domains\n",
    "    arcpy.management.AssignDomainToField(fc_fas, \"LG\", \"cvd_LEDNINGSGATA\")\n",
    "    arcpy.management.AssignDomainToField(fc_fas, \"Littera\", \"cvd_LITTERA_LEDNING\")\n",
    "    \n",
    "    # ta bort fält som inte ska användas\n",
    "    keep_fields = [\"LG\", \"Littera\", \"lintyp\", \"Shape\", \"Shape_Length\", \"OBJECTID\"]\n",
    "    all_fields = arcpy.ListFields(fc_topp)\n",
    "    fields_to_delete = [field.name for field in all_fields if field.name not in keep_fields]\n",
    "    if fields_to_delete:\n",
    "        arcpy.DeleteField_management(fc_topp, fields_to_delete)\n",
    "    \n",
    "    arcpy.management.DefineProjection(fc_topp, sr)\n",
    "\n",
    "    # Räkna topplinor, varna om inga finns\n",
    "    result = arcpy.management.GetCount(fc_topp)\n",
    "    count = int(result[0])\n",
    "    if count == 0:\n",
    "        print(f\"VARNING: Inga topplinor hittades i level 2 i {LG}_{line}.dgn\")\n",
    "        \n",
    "    # Städa bort tillfälliga lager från minnet\n",
    "    arcpy.env.workspace = dgn_dir\n",
    "    arcpy.Delete_management(layer_fas)\n",
    "    arcpy.Delete_management(layer_topp)\n",
    "        \n",
    "# Sätt detta i en main-funktion för tydlighet?\n",
    "sr = arcpy.SpatialReference(\"SWEREF99_TM\", \"RH2000\")\n",
    "powerlines_df = pd.read_csv(powerline_list, sep=\"\\t\", header=0)\n",
    "df_cvd_LEDNINGSGATA = pd.read_csv(cvd_LEDNINGSGATA_path, sep=\"\\t\", header=0)\n",
    "cvd_LEDNINGSGATA = {df_cvd_LEDNINGSGATA.Description[i]: df_cvd_LEDNINGSGATA.Code[i] for i in range(len(df_cvd_LEDNINGSGATA))}\n",
    "\n",
    "powerlines_df.apply(wires_to_gdb, axis=1)\n"
   ]
  },
  {
   "cell_type": "code",
   "execution_count": 4,
   "metadata": {},
   "outputs": [
    {
     "ename": "NameError",
     "evalue": "name 'gdb' is not defined",
     "output_type": "error",
     "traceback": [
      "\u001b[0;31m---------------------------------------------------------------------------\u001b[0m\n\u001b[0;31mNameError\u001b[0m                                 Traceback (most recent call last)",
      "In  \u001b[0;34m[4]\u001b[0m:\nLine \u001b[0;34m1\u001b[0m:     arcpy.env.workspace = gdb\u001b[37m\u001b[39;49;00m\n",
      "\u001b[0;31mNameError\u001b[0m: name 'gdb' is not defined\n\u001b[0;31m---------------------------------------------------------------------------\u001b[0m"
     ]
    }
   ],
   "source": [
    "arcpy.env.workspace = gdb\n",
    "\n",
    "feature_classes = arcpy.ListFeatureClasses()\n",
    "print(f\"Antal featureklasser: {len(feature_classes)}\")\n",
    "\n",
    "for fc in feature_classes:\n",
    "    feature_count = int(arcpy.management.GetCount(fc)[0])\n",
    "    print(f\"{fc}: {feature_count} features\")"
   ]
  },
  {
   "cell_type": "code",
   "execution_count": null,
   "metadata": {},
   "outputs": [],
   "source": []
  }
 ],
 "metadata": {
  "kernelspec": {
   "display_name": "ArcGISPro",
   "language": "Python",
   "name": "python3"
  },
  "language_info": {
   "file_extension": ".py",
   "name": "python",
   "version": "3"
  }
 },
 "nbformat": 4,
 "nbformat_minor": 2
}
