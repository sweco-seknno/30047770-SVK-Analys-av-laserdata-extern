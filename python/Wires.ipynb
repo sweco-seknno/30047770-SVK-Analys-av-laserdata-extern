{
 "cells": [
  {
   "cell_type": "markdown",
   "metadata": {},
   "source": [
    "# Wires från dgn till gdb\n",
    "## fas och topp för sig\n",
    "## littera som attribut"
   ]
  },
  {
   "cell_type": "code",
   "execution_count": null,
   "metadata": {},
   "outputs": [],
   "source": [
    "# Läs settings\n",
    "import json\n",
    "\n",
    "#settings_file = r\"Q:\\Projekt\\Data_2024\\styrfiler\\settings_SEKNNO.json\"\n",
    "#settings_file = r\"Q:\\Projekt\\Data_2024\\styrfiler\\settings_SEVPLI.json\"\n",
    "settings_file = r\"C:\\Users\\SE1K4H\\Desktop\\SVK-Analys-Filer\\settings_SEKNNO.json\" # WOrking on Elsas's computer\n",
    "#settings_file = r\"C:\\SVK_utveckling\\settings_SEVPLI.json\"\n",
    "\n",
    "with open(settings_file, 'r', encoding='utf-8') as file:\n",
    "    settings = json.load(file)\n",
    "\n",
    "#print(settings)\n",
    "print(json.dumps(settings, indent=4))\n",
    "print(\"körning av cell klar\")"
   ]
  },
  {
   "cell_type": "code",
   "execution_count": null,
   "metadata": {},
   "outputs": [],
   "source": [
    "import arcpy, os, glob\n",
    "import pandas as pd\n",
    "import shutil\n",
    "\n",
    "run_ID = settings[\"run_ID\"]\n",
    "powerline_list = settings[\"powerline_list\"]\n",
    "local_dir = settings[\"local_folder\"]\n",
    "dgn_dir = settings[\"dgn_folder\"]\n",
    "wires_gdb_template = settings[\"wires_gdb_template\"]\n",
    "domains_folder = settings[\"domains_folder\"]\n",
    "\n",
    "cvd_LEDNINGSGATA_path = os.path.join(domains_folder, \"cvd_LEDNINGSGATA.txt\")\n",
    "wires_gdb = os.path.join(local_dir, f\"wires_{run_ID}.gdb\")\n",
    "\n",
    "# Create wire gdb as copy of template\n",
    "if os.path.exists(wires_gdb):\n",
    "    print(f\"{wires_gdb} finns redan\")\n",
    "else: \n",
    "    shutil.copytree(wires_gdb_template, wires_gdb)\n",
    "\n",
    "arcpy.env.overwriteOutput = True\n",
    "\n",
    "def wires_to_gdb(row):\n",
    "    # Ange i definitionen att row är en pandas serie\n",
    "    LG = row[\"LG\"]\n",
    "    line = row[\"line\"]\n",
    "    littera = row[\"Littera\"]\n",
    "    LG_code = cvd_LEDNINGSGATA[LG]\n",
    "    \n",
    "    print(f\"Påbörjar export av fas- och topplinor för {LG}_{line}, {littera}\")\n",
    "    \n",
    "    dgn = os.path.join(dgn_dir, f\"{LG}_{line}.dgn\")\n",
    "    arcpy.env.workspace = dgn_dir # Varför ska den ha dgn dir som workspace?\n",
    "    \n",
    "    # faslinor\n",
    "    fc_fas = f\"{LG}_{line}_fas\"\n",
    "    # Create a value table that will hold the input feature classes for Merge\n",
    "    vTab_fas = arcpy.ValueTable()\n",
    "    layer_fas = \"Layer_fas\"\n",
    "    arcpy.Delete_management(layer_fas)\n",
    "    arcpy.MakeFeatureLayer_management(dgn + '/Polyline', layer_fas, \"\\\"Level\\\" = 1\")\n",
    "    vTab_fas.addRow(layer_fas)\n",
    "        \n",
    "    # topplinor\n",
    "    fc_topp = f\"{LG}_{line}_topp\"\n",
    "    # Create a value table that will hold the input feature classes for Merge\n",
    "    vTab_topp = arcpy.ValueTable()\n",
    "    layer_topp = \"Layer_topp\"\n",
    "    arcpy.Delete_management(layer_topp)\n",
    "    arcpy.MakeFeatureLayer_management(dgn + '/Polyline', layer_topp, \"\\\"Level\\\" = 2\")\n",
    "    vTab_topp.addRow(layer_topp)\n",
    "    \n",
    "    # Merge the CAD features into one feature class\n",
    "    arcpy.env.workspace = wires_gdb\n",
    "    \n",
    "    # faslinor\n",
    "    arcpy.Merge_management(vTab_fas, fc_fas)\n",
    "    # Add and populate littera field\n",
    "    arcpy.management.AddField(fc_fas, \"Littera\", \"TEXT\")\n",
    "    arcpy.management.CalculateField(fc_fas, \"Littera\", \"\".join((\"'\",littera,\"'\")))\n",
    "    arcpy.management.AddField(fc_fas, \"LG\", \"LONG\")\n",
    "    arcpy.management.CalculateField(fc_fas, \"LG\", int(LG_code))\n",
    "    arcpy.management.AddField(fc_fas, \"lintyp\", \"TEXT\")\n",
    "    arcpy.management.CalculateField(fc_fas, \"lintyp\", \"'ledare'\")\n",
    "    # domains\n",
    "    arcpy.management.AssignDomainToField(fc_fas, \"LG\", \"cvd_LEDNINGSGATA\")\n",
    "    arcpy.management.AssignDomainToField(fc_fas, \"Littera\", \"cvd_LITTERA_LEDNING\")\n",
    "    \n",
    "    # ta bort fält som inte ska användas DETTA BEHÖVER GÖRAS PÅ BÅDE FAS OCH TOPP MEN NUVARANDE \n",
    "    # UPPREPNING ÄR KLUMPIG\n",
    "    keep_fields = [\"LG\", \"Littera\", \"lintyp\", \"Shape\", \"Shape_Length\", \"OBJECTID\"]\n",
    "    all_fields = arcpy.ListFields(fc_fas)\n",
    "    fields_to_delete = [field.name for field in all_fields if field.name not in keep_fields]\n",
    "    if fields_to_delete:\n",
    "        arcpy.DeleteField_management(fc_fas, fields_to_delete)   \n",
    "\n",
    "    # Räkna faslinor, varna om inga finns\n",
    "    arcpy.management.DefineProjection(fc_fas, sr)\n",
    "    result = arcpy.management.GetCount(fc_fas)\n",
    "    count = int(result[0])\n",
    "    if count == 0:\n",
    "        print(f\"VARNING: Inga faslinor hittades i level 1 i {LG}_{line}.dgn\")\n",
    "    \n",
    "    # topplinor\n",
    "    arcpy.Merge_management(vTab_topp, fc_topp)\n",
    "    # Add and populate littera field\n",
    "    arcpy.management.AddField(fc_topp, \"Littera\", \"TEXT\")\n",
    "    arcpy.management.CalculateField(fc_topp, \"Littera\", \"\".join((\"'\",littera,\"'\")))\n",
    "    arcpy.management.AddField(fc_topp, \"LG\", \"LONG\")\n",
    "    arcpy.management.CalculateField(fc_topp, \"LG\", int(LG_code))\n",
    "    arcpy.management.AddField(fc_topp, \"lintyp\", \"TEXT\")\n",
    "    arcpy.management.CalculateField(fc_topp, \"lintyp\", \"'topplina'\")\n",
    "    # domains\n",
    "    arcpy.management.AssignDomainToField(fc_fas, \"LG\", \"cvd_LEDNINGSGATA\")\n",
    "    arcpy.management.AssignDomainToField(fc_fas, \"Littera\", \"cvd_LITTERA_LEDNING\")\n",
    "    \n",
    "    # ta bort fält som inte ska användas\n",
    "    keep_fields = [\"LG\", \"Littera\", \"lintyp\", \"Shape\", \"Shape_Length\", \"OBJECTID\"]\n",
    "    all_fields = arcpy.ListFields(fc_topp)\n",
    "    fields_to_delete = [field.name for field in all_fields if field.name not in keep_fields]\n",
    "    if fields_to_delete:\n",
    "        arcpy.DeleteField_management(fc_topp, fields_to_delete)\n",
    "    \n",
    "    arcpy.management.DefineProjection(fc_topp, sr)\n",
    "\n",
    "    # Räkna topplinor, varna om inga finns\n",
    "    result = arcpy.management.GetCount(fc_topp)\n",
    "    count = int(result[0])\n",
    "    if count == 0:\n",
    "        print(f\"VARNING: Inga topplinor hittades i level 2 i {LG}_{line}.dgn\")\n",
    "        \n",
    "    # Städa bort tillfälliga lager från minnet\n",
    "    arcpy.env.workspace = dgn_dir\n",
    "    arcpy.Delete_management(layer_fas)\n",
    "    arcpy.Delete_management(layer_topp)\n",
    "        \n",
    "# Sätt detta i en main-funktion för tydlighet?\n",
    "sr = arcpy.SpatialReference(\"SWEREF99_TM\", \"RH2000\")\n",
    "powerlines_df = pd.read_csv(powerline_list, sep=\"\\t\", header=0)\n",
    "df_cvd_LEDNINGSGATA = pd.read_csv(cvd_LEDNINGSGATA_path, sep=\"\\t\", header=0)\n",
    "cvd_LEDNINGSGATA = {df_cvd_LEDNINGSGATA.Description[i]: df_cvd_LEDNINGSGATA.Code[i] for i in range(len(df_cvd_LEDNINGSGATA))}\n",
    "\n",
    "powerlines_df.apply(wires_to_gdb, axis=1)\n",
    "print(\"körning av cell klar\")"
   ]
  },
  {
   "cell_type": "markdown",
   "metadata": {},
   "source": [
    "# Kontroll"
   ]
  },
  {
   "cell_type": "code",
   "execution_count": null,
   "metadata": {},
   "outputs": [],
   "source": [
    "arcpy.env.workspace = wires_gdb\n",
    "\n",
    "feature_classes = arcpy.ListFeatureClasses()\n",
    "print(f\"Antal featureklasser: {len(feature_classes)}\")\n",
    "\n",
    "for fc in feature_classes:\n",
    "    feature_count = int(arcpy.management.GetCount(fc)[0])\n",
    "    print(f\"{fc}: {feature_count} features\")\n",
    "print(\"körning av cell klar\")"
   ]
  },
  {
   "cell_type": "code",
   "execution_count": null,
   "metadata": {},
   "outputs": [],
   "source": [
    "print(powerline_list)"
   ]
  },
  {
   "cell_type": "markdown",
   "metadata": {},
   "source": [
    "# Convert wires gdb to PostGIS"
   ]
  },
  {
   "cell_type": "markdown",
   "metadata": {},
   "source": [
    "## Load Settings from File"
   ]
  },
  {
   "cell_type": "code",
   "execution_count": null,
   "metadata": {},
   "outputs": [
    {
     "name": "stdout",
     "output_type": "stream",
     "text": [
      "Settings loaded successfully.\n"
     ]
    }
   ],
   "source": [
    "import json\n",
    "import os\n",
    "\n",
    "settings_file = r\"C:\\Users\\SE1K4H\\Desktop\\SVK-Analys-Filer\\settings_SEKNNO.json\" # Working on Elsa's computer\n",
    "\n",
    "try:\n",
    "    if not os.path.exists(settings_file):\n",
    "        raise FileNotFoundError(f\"Could not find {settings_file}\")\n",
    "\n",
    "    with open(settings_file, 'r', encoding='utf-8') as file:\n",
    "        settings = json.load(file)\n",
    "\n",
    "    run_ID = settings[\"run_ID\"]\n",
    "    powerline_list = settings[\"powerline_list\"]\n",
    "    local_dir = settings[\"local_folder\"]\n",
    "    dgn_dir = settings[\"dgn_folder\"]\n",
    "    wires_gdb_template = settings[\"wires_gdb_template\"]\n",
    "    domains_folder = settings[\"domains_folder\"]\n",
    "    powerlines_folder = settings[\"powerlines_folder\"]\n",
    "    module_path = settings[\"modules\"] \n",
    "    ogr2ogr_path = settings[\"ogr2ogr_path\"]   \n",
    "    proj_lib_path = settings[\"proj_lib_path\"]\n",
    "    gdal_data_path = settings[\"gdal_data_path\"]\n",
    "    DEFAULT_DB_NAME = settings[\"default_db_name\"]\n",
    "    DB_NAME = settings[\"db_name\"]\n",
    "    USER = settings[\"db_user\"]\n",
    "    PASSWORD = settings[\"db_password\"]\n",
    "    HOST = settings[\"host\"]\n",
    "    PORT = settings[\"port\"] \n",
    "\n",
    "    if None in (run_ID, powerline_list, local_dir, dgn_dir, wires_gdb_template, domains_folder, powerlines_folder, module_path, ogr2ogr_path, proj_lib_path, gdal_data_path, DEFAULT_DB_NAME, DB_NAME, USER, PASSWORD, HOST, PORT):\n",
    "        raise KeyError(f\"One or more keys are missing in {settings_file}\")\n",
    "    \n",
    "    print(f\"Settings loaded successfully.\")\n",
    "except json.JSONDecodeError as e:\n",
    "    print(f\"Error: Invalid JSON format in {settings_file}\")\n",
    "except KeyError as e:\n",
    "    print(f\"Error: {e}\")\n",
    "except FileNotFoundError as e:\n",
    "    print(f\"Error: {e}\")\n",
    "except Exception as e:\n",
    "    print(f\"Error: Unexpected error: {e}\")"
   ]
  },
  {
   "cell_type": "markdown",
   "metadata": {},
   "source": [
    "## Load PostGIS methods"
   ]
  },
  {
   "cell_type": "code",
   "execution_count": null,
   "metadata": {},
   "outputs": [],
   "source": [
    "import psycopg\n",
    "\n",
    "# TODO can move these kind of methods to utils or similiar?\n",
    "def connect_to_database(db_name):\n",
    "    try:\n",
    "        conn = psycopg.connect(dbname=db_name, user=USER, password=PASSWORD, host=HOST, port=PORT)\n",
    "        conn.autocommit = True\n",
    "        return conn\n",
    "    except psycopg.Error as e:\n",
    "        print(f\"Error connecting to {db_name}: {e}\")\n",
    "        return None\n",
    "    \n",
    "def execute_query(conn, query, data=None):\n",
    "    try:\n",
    "        with conn.cursor() as cur:\n",
    "            cur.execute(query, data or ())\n",
    "    except psycopg.Error as e:\n",
    "        print(f\"Error executing query: {e}\")"
   ]
  },
  {
   "cell_type": "markdown",
   "metadata": {},
   "source": [
    "## Set up PostGIS Database"
   ]
  },
  {
   "cell_type": "code",
   "execution_count": 5,
   "metadata": {},
   "outputs": [
    {
     "name": "stdout",
     "output_type": "stream",
     "text": [
      "Database test_postgis_db was created successfully.\n",
      "Connection to database postgres closed.\n",
      "Connection to database test_postgis_db closed.\n"
     ]
    }
   ],
   "source": [
    "import os\n",
    "import psycopg\n",
    "from psycopg import sql\n",
    "\n",
    "def create_database(cur):\n",
    "    drop_database_query = sql.SQL(\"DROP DATABASE IF EXISTS {db_name}\").format(db_name=sql.Identifier(DB_NAME))\n",
    "    create_database_query = sql.SQL(\"CREATE DATABASE {db_name}\").format(db_name=sql.Identifier(DB_NAME))\n",
    "\n",
    "    cur.execute(drop_database_query)\n",
    "    cur.execute(create_database_query)\n",
    "\n",
    "try:  \n",
    "    # Step 1: Create a new database\n",
    "    conn_deafult = connect_to_database(DEFAULT_DB_NAME)\n",
    "    execute_query(conn_deafult, sql.SQL(\"DROP DATABASE IF EXISTS {db_name}\").format(db_name=sql.Identifier(DB_NAME)))\n",
    "    execute_query(conn_deafult, sql.SQL(\"CREATE DATABASE {db_name}\").format(db_name=sql.Identifier(DB_NAME)))    \n",
    "\n",
    "    # Step 2: Enable PostGIS extension\n",
    "    conn_db = connect_to_database(DB_NAME)\n",
    "    execute_query(conn_db, sql.SQL(\"CREATE EXTENSION IF NOT EXISTS postgis;\"))\n",
    "\n",
    "    print(f\"Database {DB_NAME} was created successfully.\") #TODO Verify this as well, don't assume\n",
    "except Exception as e:\n",
    "    print(\"Error: \", e)\n",
    "finally:\n",
    "    if conn_deafult is not None:\n",
    "        conn_deafult.close()\n",
    "        print(f\"Connection to database {DEFAULT_DB_NAME} closed.\")\n",
    "    \n",
    "    if conn_db is not None:\n",
    "        conn_db.close()\n",
    "        print(f\"Connection to database {DB_NAME} closed.\")"
   ]
  },
  {
   "cell_type": "markdown",
   "metadata": {},
   "source": [
    "## Convert wires gdb to PostGIS"
   ]
  },
  {
   "cell_type": "code",
   "execution_count": 6,
   "metadata": {},
   "outputs": [
    {
     "name": "stdout",
     "output_type": "stream",
     "text": [
      "Successfully imported C:/Users/SE1K4H/Desktop/SVK-Analys-Filer/pythonkörningar/test_postGIS\\wires_250201.gdb into PostGIS as 'LG001_1_fas'.\n"
     ]
    }
   ],
   "source": [
    "import os\n",
    "import subprocess\n",
    "import pandas as pd\n",
    "\n",
    "#TODO in general in all cells, take a look att exception handling\n",
    "PG_CONNECTION = f\"PG:host={HOST} dbname={DB_NAME} user={USER} password={PASSWORD} port={PORT}\"\n",
    "\n",
    "def convert_gdb_to_postGIS(row):\n",
    "    LG = row[\"LG\"]\n",
    "    line = row[\"line\"]  \n",
    "    table_name = f\"{LG}_{line}_fas\"\n",
    "    ogr_command = [\n",
    "        ogr2ogr_path,\n",
    "        \"-f\", \"PostgreSQL\",\n",
    "        PG_CONNECTION,\n",
    "        wires_gdb,\n",
    "        \"-a_srs\", \"EPSG:3006\",\n",
    "        \"-nln\", table_name,\n",
    "        \"-nlt\", \"MULTILINESTRINGZ\",\n",
    "        \"-dim\", \"3\",\n",
    "        \"-overwrite\", #TODO change this when there are several dgn-files, eg. append\n",
    "        table_name        \n",
    "    ]\n",
    "\n",
    "    try:\n",
    "        os.environ[\"PROJ_LIB\"] = proj_lib_path #TODO potentially solve this in another way. Now it has to be done in order to find -a_srs EPSG:3006\n",
    "        os.environ[\"GDAL_DATA\"] = gdal_data_path\n",
    "        subprocess.run(ogr_command, check=True, capture_output=True, text=True)\n",
    "        print(f\"Successfully imported {wires_gdb} into PostGIS as '{table_name}'.\") #TODO verify this\n",
    "    except subprocess.CalledProcessError as e:\n",
    "        print(f\"Error: Could not import {wires_gdb} into PostGIS. {e}\")\n",
    "\n",
    "try:   \n",
    "    wires_gdb = os.path.join(local_dir, f\"wires_{run_ID}.gdb\")\n",
    "    powerlines_df = pd.read_csv(powerline_list, sep=\"\\t\", header=0)\n",
    "    powerlines_df.apply(convert_gdb_to_postGIS, axis=1)\n",
    "except ValueError as e:\n",
    "    print(f\"Error: {e}\")\n",
    "except Exception as e:\n",
    "    print(f\"Unexpected error: {e}\")"
   ]
  },
  {
   "cell_type": "code",
   "execution_count": null,
   "metadata": {},
   "outputs": [],
   "source": []
  }
 ],
 "metadata": {
  "kernelspec": {
   "display_name": "venv",
   "language": "python",
   "name": "python3"
  },
  "language_info": {
   "codemirror_mode": {
    "name": "ipython",
    "version": 3
   },
   "file_extension": ".py",
   "mimetype": "text/x-python",
   "name": "python",
   "nbconvert_exporter": "python",
   "pygments_lexer": "ipython3",
   "version": "3.10.0"
  }
 },
 "nbformat": 4,
 "nbformat_minor": 2
}
