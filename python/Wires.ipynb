{
 "cells": [
  {
   "cell_type": "markdown",
   "metadata": {},
   "source": [
    "# Wires från dgn till gdb\n",
    "## fas och topp för sig\n",
    "## littera som attribut"
   ]
  },
  {
   "cell_type": "code",
   "execution_count": 1,
   "metadata": {
    "scrolled": true
   },
   "outputs": [
    {
     "name": "stdout",
     "output_type": "stream",
     "text": [
      "LG012_3, UL1 S1-3\n",
      "vTab created\n",
      "MakeFeatureLayer complete\n",
      "Row added to vTab_fas\n",
      "vTab created\n",
      "MakeFeatureLayer complete\n",
      "Row added to vTab_topp\n",
      "LG056_1, RL8 S7\n",
      "vTab created\n",
      "MakeFeatureLayer complete\n",
      "Row added to vTab_fas\n",
      "vTab created\n",
      "MakeFeatureLayer complete\n",
      "Row added to vTab_topp\n"
     ]
    },
    {
     "data": {
      "text/plain": [
       "0    None\n",
       "1    None\n",
       "dtype: object"
      ]
     },
     "execution_count": 1,
     "metadata": {},
     "output_type": "execute_result"
    }
   ],
   "source": [
    "import arcpy, os, glob\n",
    "from pathlib import Path\n",
    "import pandas as pd\n",
    "\n",
    "prj_dir = r\"C:\\SVK_2023\\pythonkörningar\\2020-12-20\"\n",
    "dgn_dir = r\"U:\\Projekt\\Analys_2023\\DGN\"\n",
    "gdb  = os.path.join(prj_dir, \"RBX_2023_12_20.gdb\", \"Wires\")\n",
    "\n",
    "LGs_info_path = r\"U:\\Projekt\\Data_2023\\styrfiler\\RBX_kantträd\\2023-12-20.txt\"\n",
    "cvd_LEDNINGSGATA_path = r\"U:\\Projekt\\Data\\Geodataunderlag_SVK\\cvd_LEDNINGSGATA.txt\"\n",
    "\n",
    "arcpy.env.overwriteOutput = True\n",
    "\n",
    "def wires_to_gdb(row):\n",
    "    LG = row[\"LG\"]\n",
    "    line = row[\"line\"]\n",
    "    littera = row[\"Littera\"]\n",
    "    LG_code = cvd_LEDNINGSGATA[LG]\n",
    "    \n",
    "    print(f\"{LG}_{line}, {littera}\")\n",
    "    \n",
    "    dgn = os.path.join(dgn_dir, f\"{LG}_{line}.dgn\")\n",
    "    arcpy.env.workspace = dgn_dir\n",
    "    \n",
    "    # faslinor\n",
    "    fc_fas = f\"{LG}_{line}_fas\"\n",
    "    # Create a value table that will hold the input feature classes for Merge\n",
    "    vTab_fas = arcpy.ValueTable()\n",
    "    print(\"vTab created\")\n",
    "    layer_fas = \"Layer_fas\"\n",
    "    arcpy.Delete_management(layer_fas)\n",
    "    arcpy.MakeFeatureLayer_management(dgn + '/Polyline', layer_fas, \"\\\"Level\\\" = 1\")\n",
    "    print(\"MakeFeatureLayer complete\")\n",
    "    vTab_fas.addRow(layer_fas)\n",
    "    print(\"Row added to vTab_fas\")\n",
    "        \n",
    "    # topplinor\n",
    "    fc_topp = f\"{LG}_{line}_topp\"\n",
    "    # Create a value table that will hold the input feature classes for Merge\n",
    "    vTab_topp = arcpy.ValueTable()\n",
    "    print(\"vTab created\")\n",
    "    layer_topp = \"Layer_topp\"\n",
    "    arcpy.Delete_management(layer_topp)\n",
    "    arcpy.MakeFeatureLayer_management(dgn + '/Polyline', layer_topp, \"\\\"Level\\\" = 2\")\n",
    "    print(\"MakeFeatureLayer complete\")\n",
    "    vTab_topp.addRow(layer_topp)\n",
    "    print(\"Row added to vTab_topp\")\n",
    "\n",
    "    \n",
    "    # Merge the CAD features into one feature class\n",
    "    arcpy.env.workspace = gdb\n",
    "    \n",
    "    # faslinor\n",
    "    arcpy.Merge_management(vTab_fas, fc_fas)\n",
    "    # Add and populate littera field\n",
    "    arcpy.management.AddField(fc_fas, \"Littera\", \"TEXT\")\n",
    "    arcpy.management.CalculateField(fc_fas, \"Littera\", \"\".join((\"'\",littera,\"'\")))\n",
    "    arcpy.management.AddField(fc_fas, \"LG\", \"LONG\")\n",
    "    arcpy.management.CalculateField(fc_fas, \"LG\", int(LG_code))\n",
    "    arcpy.management.AddField(fc_fas, \"lintyp\", \"TEXT\")\n",
    "    arcpy.management.CalculateField(fc_fas, \"lintyp\", \"'ledare'\")\n",
    "    # domains\n",
    "    arcpy.management.AssignDomainToField(fc_fas, \"LG\", \"cvd_LEDNINGSGATA\")\n",
    "    arcpy.management.AssignDomainToField(fc_fas, \"Littera\", \"cvd_LITTERA_LEDNING\")\n",
    "    \n",
    "    \n",
    "    # topplinor\n",
    "    arcpy.Merge_management(vTab_topp, fc_topp)\n",
    "    # Add and populate littera field\n",
    "    arcpy.management.AddField(fc_topp, \"Littera\", \"TEXT\")\n",
    "    arcpy.management.CalculateField(fc_topp, \"Littera\", \"\".join((\"'\",littera,\"'\")))\n",
    "    arcpy.management.AddField(fc_topp, \"LG\", \"LONG\")\n",
    "    arcpy.management.CalculateField(fc_topp, \"LG\", int(LG_code))\n",
    "    arcpy.management.AddField(fc_topp, \"lintyp\", \"TEXT\")\n",
    "    arcpy.management.CalculateField(fc_topp, \"lintyp\", \"'topplina'\")\n",
    "    # domains\n",
    "    arcpy.management.AssignDomainToField(fc_fas, \"LG\", \"cvd_LEDNINGSGATA\")\n",
    "    arcpy.management.AssignDomainToField(fc_fas, \"Littera\", \"cvd_LITTERA_LEDNING\")\n",
    "    \n",
    "\n",
    "LGs_info = pd.read_csv(LGs_info_path, sep=\"\\t\", header=0)\n",
    "df_cvd_LEDNINGSGATA = pd.read_csv(cvd_LEDNINGSGATA_path, sep=\"\\t\", header=0)\n",
    "cvd_LEDNINGSGATA = {df_cvd_LEDNINGSGATA.LG[i]: df_cvd_LEDNINGSGATA.Code[i] for i in range(len(df_cvd_LEDNINGSGATA))}\n",
    "\n",
    "\n",
    "LGs_info.apply(wires_to_gdb, axis=1)"
   ]
  },
  {
   "cell_type": "code",
   "execution_count": null,
   "metadata": {},
   "outputs": [],
   "source": []
  }
 ],
 "metadata": {
  "kernelspec": {
   "display_name": "Python 3 (ipykernel)",
   "language": "python",
   "name": "python3"
  },
  "language_info": {
   "codemirror_mode": {
    "name": "ipython",
    "version": 3
   },
   "file_extension": ".py",
   "mimetype": "text/x-python",
   "name": "python",
   "nbconvert_exporter": "python",
   "pygments_lexer": "ipython3",
   "version": "3.9.16"
  }
 },
 "nbformat": 4,
 "nbformat_minor": 2
}
