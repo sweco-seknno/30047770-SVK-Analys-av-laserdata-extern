{
 "cells": [
  {
   "cell_type": "markdown",
   "metadata": {},
   "source": [
    "# Case Study\n",
    "Denna notebook utgör den andra delen av funktionsanalysen som utförs inom ramarna av ett exjobb som genomförs under vårterminen 2025 av Elsa Hedström. Syftet med denna del är att teknik-bedömarna ska bilda sig en uppfattning om hur det är att lära sig att använda psycopg och PostGIS i vegetationsanalysen. Därefter kommer vegetationsanalysen att utvärderas för PostGIS (psycopg) respektive filgeodatabas (arcpy). \n",
    "\n",
    "Hela fallstudien uppskattas ta cirka 215 minuter.\n",
    "\n",
    "## Implementation + Inläsning (PostGIS, psycopg)\n",
    "*Tidsuppskattning: 100 minuter*\n",
    "\n",
    "Vi börjar utvärderingen av lösningen som bygger på PostGIS och psycopg, vilket kommer att ske genom inläsning och implementation. \n",
    "\n",
    "Under detta moment kan ni läsa in er på PostGIS, PostgreSQL, psycopg och ogr2ogr parallellt med att ni testar paketet. Detta moment görs enskilt för att ni ska ta det i er egen takt och på det sätt som ni föredrar att lära er något nytt. Nedan listas dokumentation som kan vara användbar, men det begränsar er inte till att googla fritt efter ytterligare dokumentation.\n",
    "\n",
    "- [PostgreSQL](https://www.postgresql.org/docs/current/)\n",
    "- [PostGIS](https://postgis.net/docs/manual-3.5/en/)\n",
    "- [psycopg](https://www.psycopg.org/docs/)\n",
    "- [ogr2ogr](https://gdal.org/en/stable/programs/ogr2ogr.html)\n",
    "\n",
    "För att bilda en uppfattning om hur lätt det är att lära sig PostGIS och implementera det med hjälp av psycopg ska ni utföra några delövningar som är moment i vegetationsanalysen. Ta hjälp om ni kör fast på någon övning, det viktiga här är att ni ska få en känsla för hur det är att lära sig de nya teknikerna med hjälp av befintlig dokumentation. \n",
    "\n",
    "### Uppgift 1: Sätt upp PostGIS databas\n",
    "1. Använd psycopg för att ansluta till default databasen 'postgres'. Använd user='postgres', dbname='postgres' och lösenordet som du satte när du installerade PostgreSQL.\n",
    "2. Skapa en ny databas som du döper till 'test_postgis_db'.\n",
    "3. Anslut till den nya databasen.\n",
    "4. Aktivera PostGIS-tillägg på den nya databasen."
   ]
  },
  {
   "cell_type": "code",
   "execution_count": 1,
   "metadata": {},
   "outputs": [],
   "source": [
    "import psycopg\n",
    "from psycopg import sql\n",
    "# Uppgift 1.1\n",
    "\n",
    "# Uppgift 1.2\n",
    "\n",
    "# Uppgift 1.3\n",
    "\n",
    "# Uppgift 1.4"
   ]
  },
  {
   "cell_type": "markdown",
   "metadata": {},
   "source": [
    "### Uppgift 2: Konvertera wires gdb till PostGIS\n",
    "Till att börja med måste vi konvertera linorna från gdb till PostGIS. För detta krävs lite olika sökvägar från settings.json.\n",
    "1. Kopiera in rätt sökväg för settings_file\n",
    "2. Uppdatera sökvägarna för local_folder, powerline_list och powerlines_folder i settings.json."
   ]
  },
  {
   "cell_type": "code",
   "execution_count": 11,
   "metadata": {},
   "outputs": [],
   "source": [
    "# Uppgift 2.1\n",
    "settings_file = r\"C:/Users/SE1K4H/Desktop/case-study-material/settings.json\""
   ]
  },
  {
   "cell_type": "markdown",
   "metadata": {},
   "source": [
    "2. Verifiera att *ogr2ogr_path, proj_lib_path, gdal_data_path* i settings.json stämmer överens med de faktiska sökvägarna.\n",
    "3. Ladda in sökvägarna genom att köra nästa block."
   ]
  },
  {
   "cell_type": "code",
   "execution_count": null,
   "metadata": {},
   "outputs": [],
   "source": [
    "# Uppgift 2.3: Inga uppdateringar av koden krävs.\n",
    "import json\n",
    "\n",
    "with open(settings_file, 'r', encoding='utf-8') as file:\n",
    "    settings = json.load(file)\n",
    "\n",
    "run_ID = settings[\"run_ID\"]\n",
    "powerline_list = settings[\"powerline_list\"]\n",
    "local_dir = settings[\"local_folder\"]\n",
    "powerlines_folder = settings[\"powerlines_folder\"]\n",
    "ogr2ogr_path = settings[\"ogr2ogr_path\"]   \n",
    "proj_lib_path = settings[\"proj_lib_path\"]\n",
    "gdal_data_path = settings[\"gdal_data_path\"]\n",
    "\n",
    "print(\"Sökvägarna har lästs in\")"
   ]
  },
  {
   "cell_type": "markdown",
   "metadata": {},
   "source": [
    "4. Uppdatera variablerna nedan med rätt uppgifter för att ansluta till den databas som vi tidigare skapade. "
   ]
  },
  {
   "cell_type": "code",
   "execution_count": null,
   "metadata": {},
   "outputs": [],
   "source": [
    "# Uppgift 2.4\n",
    "HOST = 'localhost'\n",
    "DB_NAME = 'test_postgis_db'\n",
    "USER = 'postgres'\n",
    "PORT = '5432'\n",
    "PASSWORD = ''\n",
    "\n",
    "PG_CONNECTION = f\"PG:host={HOST} dbname={DB_NAME} user={USER} password={PASSWORD} port={PORT}\"\n",
    "\n",
    "print(f\"Strängen för att ansluta till databasen har lästs in: {PG_CONNECTION}\")"
   ]
  },
  {
   "cell_type": "markdown",
   "metadata": {},
   "source": [
    "5. Nu sker själva konverteringen av linorna med hjälp av verktyget ogr2ogr. Läs igenom koden och dokumentation för ogr2ogr för att bilda dig en uppfattning om vad som sker. Kör cellen. OBS: Det är viktigt att du har startat psql-servern i en cmd terminal i rätt sökväg.\n",
    "\n",
    "    ```\n",
    "    cd C:\\Program Files\\PostgreSQL\\17\\bin\n",
    "    pg_ctl -D \"C:\\Program Files\\PostgreSQL\\17\\data\" start\n",
    "    ```"
   ]
  },
  {
   "cell_type": "code",
   "execution_count": null,
   "metadata": {},
   "outputs": [],
   "source": [
    "# Uppgift 2.5: Inga uppdateringar av koden krävs.\n",
    "import os\n",
    "import subprocess\n",
    "import pandas as pd\n",
    "\n",
    "def convert_gdb_to_postGIS(row):\n",
    "    LG = row[\"LG\"]\n",
    "    line = row[\"line\"]  \n",
    "    table_name = f\"{LG}_{line}_fas\"\n",
    "    \n",
    "    ogr_command = [\n",
    "        ogr2ogr_path,\n",
    "        \"-f\", \"PostgreSQL\",\n",
    "        PG_CONNECTION,\n",
    "        wires_gdb,\n",
    "        \"-a_srs\", \"EPSG:3006\",\n",
    "        \"-nln\", table_name,\n",
    "        \"-nlt\", \"MULTILINESTRINGZ\",\n",
    "        \"-dim\", \"3\",\n",
    "        \"-overwrite\",\n",
    "        table_name        \n",
    "    ]\n",
    "\n",
    "    os.environ[\"PROJ_LIB\"] = proj_lib_path\n",
    "    os.environ[\"GDAL_DATA\"] = gdal_data_path\n",
    "    subprocess.run(ogr_command, check=True, capture_output=True, text=True)\n",
    "    print(f\"Importerade {wires_gdb} till PostGIS som tabellen '{table_name}'.\")\n",
    "        \n",
    "wires_gdb = os.path.join(local_dir, f\"wires_{run_ID}.gdb\")\n",
    "powerlines_df = pd.read_csv(powerline_list, sep=\"\\t\", header=0)\n",
    "powerlines_df.apply(convert_gdb_to_postGIS, axis=1)"
   ]
  },
  {
   "cell_type": "markdown",
   "metadata": {},
   "source": [
    "Snyggt jobbat, nu har vi gjort det första steget med att konvertera linorna till PostGIS tabeller! \n",
    "\n",
    "Vill du se vad dessa steg resulterade i kan du ta dig en kik i verktyget pgAdmin som ska ha laddats ner på din dator när du installerade PostgreSQL. Fastna inte i detta steg, utan ta hjälp om du vill göra det.\n",
    "\n",
    "[pgAdmin dokumentation](https://www.pgadmin.org/docs/) om du vill läsa mer\n"
   ]
  },
  {
   "cell_type": "markdown",
   "metadata": {},
   "source": [
    "### Uppgift 3: Konvertera kantträd till PostGIS tabeller\n",
    "1. Nästa kodblock slår samman alla kantträds-block tillhörande en lina. Detta görs precis som det gjorts tidigare. Kör detta block. "
   ]
  },
  {
   "cell_type": "code",
   "execution_count": null,
   "metadata": {},
   "outputs": [],
   "source": [
    "# Uppgift 3.1: Inga uppdateringar av koden krävs.\n",
    "from pathlib import Path\n",
    "import glob\n",
    "import fileinput\n",
    "import pandas as pd\n",
    "import os\n",
    "\n",
    "def combine_blocks(row):\n",
    "    LG = row[\"LG\"]\n",
    "    line = row[\"line\"]\n",
    "    line_dir = Path(powerlines_folder) / LG / f\"line_{line}\"\n",
    "    \n",
    "    block_dir = os.path.join(line_dir, \"kantträd\", \"block\")\n",
    "    combined_blocks_path = os.path.join(line_dir, \"kantträd\", \"SKB_raw.txt\")\n",
    "    \n",
    "    # Merge files for all blocks into one\n",
    "    merge_blocks(block_dir, \"*.txt\", combined_blocks_path)\n",
    "    print(f\"Slog samman alla kantträd för {LG}/line_{line} till filen {combined_blocks_path}.\")\n",
    "\n",
    "def merge_blocks(src_dir, search_pattern, dst_file):\n",
    "    blocks = glob.glob(os.path.join(src_dir, search_pattern))\n",
    "    with open(dst_file, \"w\") as fh:\n",
    "        input_lines = fileinput.input(blocks)\n",
    "        fh.writelines(input_lines)\n",
    "\n",
    "powerlines_df = pd.read_csv(powerline_list, sep=\"\\t\", header=0)\n",
    "powerlines_df.apply(combine_blocks, axis=1)\n",
    "print(f\"Alla linor har slagits samman\")"
   ]
  },
  {
   "cell_type": "markdown",
   "metadata": {},
   "source": [
    "Precis som tidigare så läses linorna in från en textfil innehållande alla linor (powerline_list). Istället för att skapa en feature class för vardera lina så ska vi nu skapa en PostGIS tabell. Detta gör du genom att implementera följande deluppgifter i metoden *create_SKB_table*.\n",
    "\n",
    "2. Anslut till databasen *test_postgis_db*. Detta har du gjort i uppgift 1.3, så du kan kopiera den koden. \n",
    "3. Skapa en tom tabell och namnge den med namnet som finns i variabeln table_name. Följande attribut ska finnas med:\n",
    "\n",
    "    | Name    | Data Type                        |\n",
    "    |---------|----------------------------------|\n",
    "    | objectid | SERIAL PRIMARY KEY              |\n",
    "    | x       | DOUBLE PRECISION                 |\n",
    "    | y       | DOUBLE PRECISION                 |\n",
    "    | z       | FLOAT                            |\n",
    "    | dz      | FLOAT                            |\n",
    "    | mz      | FLOAT                            |\n",
    "    | shape   | geometry(POINTZ, 3006)           |\n",
    "\n",
    "    I detta fall är *geometry* en punkt i 3D där 3006 är Spatial Reference System Identifier som refererar till SWEREF 99 TM.  \n",
    "\n",
    "4. Sätt in koordinaterna för kantträden i tabellen du just skapat. *shape* ska bestå av punkten (x, y, mz), psst glöm inte att ange 3006 som SRID. \n",
    "    "
   ]
  },
  {
   "cell_type": "code",
   "execution_count": null,
   "metadata": {},
   "outputs": [],
   "source": [
    "import psycopg2\n",
    "from pathlib import Path\n",
    "import pandas as pd\n",
    "import os\n",
    "\n",
    "def create_SKB_table(row):\n",
    "    LG = row[\"LG\"]\n",
    "    line = row[\"line\"]\n",
    "    table_name = f\"{LG}_{line}_SKB_XYmZ\"\n",
    "    line_dir = Path(powerlines_folder) / LG / f\"line_{line}\"\n",
    "    SKB_dir = line_dir / \"kantträd\"\n",
    "    SKB_file_in = os.path.join(SKB_dir, f\"SKB_raw.txt\")\n",
    "\n",
    "    # Uppgit 3.2\n",
    "\n",
    "    # Uppgift 3.3\n",
    "\n",
    "    with open(SKB_file_in, 'r') as src_file:\n",
    "        for file_line in src_file:\n",
    "            l_split = file_line.split(' ')\n",
    "            x = float(l_split[0])\n",
    "            y = float(l_split[1])\n",
    "            z = float(l_split[2])\n",
    "            dz = float(l_split[3])\n",
    "            mz = z - dz\n",
    "\n",
    "            # Uppgift 3.4\n",
    "\n",
    "powerlines_df = pd.read_csv(powerline_list, sep=\"\\t\", header=0)\n",
    "powerlines_df.apply(create_SKB_table, axis=1)"
   ]
  },
  {
   "cell_type": "markdown",
   "metadata": {},
   "source": [
    "Nu har du tagit dig igenom all implementation, snyggt jobbat! Förhoppningsvis har du hunnit bilda dig en någorlunda bild av hur det är att använda PostGIS och psycopg. Om inte, berätta det för mig så kan jag ha det i åtanke sedan när jag analyserar resultatet av funktionsanalysen. \n",
    "\n",
    "## Genomgång av förslag på arbetsflöde (PostGIS, psycopg)\n",
    "*Tidsuppskattning: 30 minuter*\n",
    "\n",
    "Nu ska vi gemensamt gå igenom hur hela flödet av kantträds-beräkningarna skulle kunna se ut. Syftet med detta är att ni ska kunna bilda er en bild av hur pass kompatibelt ni tror att psycopg och PostGIS är med resterande nuvarande flöde. Ställa gärna frågor under tiden så ska jag förtydliga. \n",
    "\n",
    "## Fyll i poängbladet (PostGIS, psycopg)\n",
    "*Tidsuppskattning: 30 minuter*\n",
    "\n",
    "Fyll nu tillsammans i poängbladet för PostGIS. Glöm inte att fylla i så mycket kommentarer som möjligt. Dessa ska reflektera de tankar som ni haft längs vägen och motivera poängen som sätts. "
   ]
  },
  {
   "cell_type": "markdown",
   "metadata": {},
   "source": [
    "## Filgeodatabas, arcpy\n",
    "*Tidsåtgång: 20 minuter*\n",
    "\n",
    "Nu går vi över till att utvärdera lösningen som bygger på filgeodatabas och arcpy. I och med att ni redan är familjära med arcpy och har implementerat vegetationsanalysen med hjälp av det så kommer detta segment att göra er påminda om hur detta var. Ni kommer att få några frågor att diskutera kring för att mjuka upp minnet. Parallellt med frågorna kan ni fylla i poängbladet med kommentarer.\n",
    "\n",
    "### Finansiering \n",
    "1. Finns det några kostnader kopplat till användningen av arcpy? Om ja, hur ser dessa kostnader ut? \n",
    "\n",
    "*Nu kan funktionsset F1 fyllas i*\n",
    "\n",
    "### Dokumentation\n",
    "1. Läste du någon dokumentation under tiden vegetationsanalysen implementerades? Om ja, vilken dokumentation och hur var kvalitén av den?\n",
    "2. Var det någon teknisk bit kopplat till arcpy som var svår att få grepp om? Hur fick du mer information om detta?\n",
    "\n",
    "*Nu kan underfunktionen F2-SF04 fyllas i*\n",
    "\n",
    "### Dataformat \n",
    "1. Vilka konverteringar mellan olika filformat måste göras för att kunna hantera data så som linor och träd? \n",
    "    - Genomförs dessa konverteringar smidigt eller är de implementerade på ett omständligt sätt där krångel brukar kunna uppstå?\n",
    "\n",
    "*Nu kan funktionsset F3 fyllas i*\n",
    "\n",
    "### Avståndsberäkningar\n",
    "1. Hur är respektive beräkning implementerad: \n",
    "    - kortaste avståndet mellan trädets markpunkt och fas\n",
    "    - kortaste avståndet mellan trädtopp och fas\n",
    "    - horisontellt avstånd mellan träd och fas\n",
    "2. Finns det några brister samt fördelar med dessa beräkningar?\n",
    "3. För att sätta sig in i arcpy-metoderna som används vid distansberäkningarna, läste du någon dokumentation?\n",
    "    - Vilken var denna dokumentation?\n",
    "    - Hur var kvalitén av dokumentationen?\n",
    "    - Täcktes alla aspekter som du funderade över upp i dokumentationen?\n",
    "\n",
    "*Nu kan funktionsset F4 fyllas i*\n",
    "\n",
    "### Datahantering\n",
    "1. Hur ser implementationen ut för följande aktiviteter? Finns det några fördelar och/eller nackdelar med dessa?\n",
    "    - Definiera SWEREF99 och RH2000 som spatial referens\n",
    "    - Lägga till attribut till en feature class\n",
    "    - Hantera fält-alias\n",
    "    - Hantera domäner\n",
    "\n",
    "*Nu kan funktionsset F5 fyllas i*\n",
    "\n",
    "### Interoperabilitet\n",
    "1. Brukar du visualisera och utforska data i kartläge i samband med vegetationsanalysen? \n",
    "    - Hur tycker du att det fungerar?\n",
    "2. I vilken code editor har du jobbat med implementationen av scripten och varför?\n",
    "    - Hur är din upplevelse av att koda i den code editorn?\n",
    "    - Finns det någon funktion eller stöd som du saknar?\n",
    "3. Hur är det att hantera virtuella miljöer och python-paket när du jobbar? \n",
    "4. Vilka python-paket används utöver arcpy i lösningen och hur har dessa paket lirat med varandra? \n",
    "\n",
    "*Nu kan resterande underfunktioner fyllas i*"
   ]
  },
  {
   "cell_type": "markdown",
   "metadata": {},
   "source": [
    "## Avslutning\n",
    "*Tidsuppskattning: 10 minuter*\n",
    "\n",
    "Vilket jobb ni har gjort, tack snälla för er tid!\n",
    "\n",
    "Det sista som nu återstår är att kolla igenom de två poängbladen och säkerställa att ni bedömt med samma glasögon i båda fallen av verktyg. \n",
    "\n",
    "### Feedback\n",
    "Feedback på tillfället genomförs muntligt."
   ]
  }
 ],
 "metadata": {
  "kernelspec": {
   "display_name": "venv",
   "language": "python",
   "name": "python3"
  },
  "language_info": {
   "codemirror_mode": {
    "name": "ipython",
    "version": 3
   },
   "file_extension": ".py",
   "mimetype": "text/x-python",
   "name": "python",
   "nbconvert_exporter": "python",
   "pygments_lexer": "ipython3",
   "version": "3.10.0"
  }
 },
 "nbformat": 4,
 "nbformat_minor": 2
}
