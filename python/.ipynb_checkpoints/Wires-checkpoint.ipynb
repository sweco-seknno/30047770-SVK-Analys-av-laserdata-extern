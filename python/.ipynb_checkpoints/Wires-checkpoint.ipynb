{
 "cells": [
  {
   "cell_type": "markdown",
   "metadata": {},
   "source": [
    "# Wires från dgn till gdb\n",
    "## fas och topp för sig\n",
    "## littera som attribut"
   ]
  },
  {
   "cell_type": "code",
   "execution_count": 16,
   "metadata": {},
   "outputs": [
    {
     "data": {
      "text/plain": [
       "{'local_folder': 'C:/SVK_2024/pythonkÃ¶rningar', 'name_of_result': 'test_241218', 'powerline_list': 'Q:/Projekt/Data_2024/styrfiler/veg_kanttrad_test.txt', 'tmp_gdb_template': 'Q:/Projekt/Data_2024/tmp_template.gdb', 'results_gdb_template': 'Q:/Projekt/Data_2024/results_template.gdb', 'wires_gdb_template': 'Q:/Projekt/Data_2024/wires_template.gdb', 'dgn_folder': 'Q:/Projekt/Analys_2024/DGN_2024', 'powerlines_folder': 'Q:/Projekt/Analys_2024/ledningar'}"
      ]
     },
     "execution_count": 16,
     "metadata": {},
     "output_type": "execute_result"
    }
   ],
   "source": [
    "settings"
   ]
  },
  {
   "cell_type": "code",
   "execution_count": 18,
   "metadata": {},
   "outputs": [],
   "source": [
    "# Läs settings\n",
    "import json\n",
    "\n",
    "settings_file = r\"Q:\\Projekt\\Data_2024\\styrfiler\\settings_SEKNNO.json\"\n",
    "\n",
    "with open(settings_file, 'r', encoding='utf-8') as file:\n",
    "    settings = json.load(file)"
   ]
  },
  {
   "cell_type": "code",
   "execution_count": null,
   "metadata": {},
   "outputs": [],
   "source": []
  },
  {
   "cell_type": "code",
   "execution_count": 1,
   "metadata": {
    "collapsed": true
   },
   "outputs": [
    {
     "name": "stdout",
     "output_type": "stream",
     "text": [
      "Påbörjar export av fas- och topplinor för LG013_1, AL7 S1\n",
      "Påbörjar export av fas- och topplinor för LG013_2, AL7 S2\n",
      "Påbörjar export av fas- och topplinor för LG013_3, UL1 S1-3\n",
      "Påbörjar export av fas- och topplinor för LG013_5, UL28 S1-3\n",
      "Påbörjar export av fas- och topplinor för LG019_1, CL3 S0\n",
      "Påbörjar export av fas- och topplinor för LG019_2, CL3 S1\n",
      "Påbörjar export av fas- och topplinor för LG019_3, UL17 S2\n",
      "Påbörjar export av fas- och topplinor för LG019_4, UL7 S5-6\n",
      "Påbörjar export av fas- och topplinor för LG019_5, UL2 S1-2\n",
      "Påbörjar export av fas- och topplinor för LG019_6, UL17 S1\n",
      "Påbörjar export av fas- och topplinor för LG021_1, AL6 S7\n",
      "Påbörjar export av fas- och topplinor för LG024_1, UL1 S4-5\n",
      "Påbörjar export av fas- och topplinor för LG024_2, UL5 S1-5\n",
      "Påbörjar export av fas- och topplinor för LG046_6, RL56\n",
      "Påbörjar export av fas- och topplinor för LG046_7, RL8 S1\n",
      "Påbörjar export av fas- och topplinor för LG046_8, RL2 S1\n",
      "Påbörjar export av fas- och topplinor för LG557_1, RL5 S4\n"
     ]
    },
    {
     "data": {
      "text/plain": [
       "0     None\n",
       "1     None\n",
       "2     None\n",
       "3     None\n",
       "4     None\n",
       "5     None\n",
       "6     None\n",
       "7     None\n",
       "8     None\n",
       "9     None\n",
       "10    None\n",
       "11    None\n",
       "12    None\n",
       "13    None\n",
       "14    None\n",
       "15    None\n",
       "16    None\n",
       "dtype: object"
      ]
     },
     "execution_count": 1,
     "metadata": {},
     "output_type": "execute_result"
    }
   ],
   "source": [
    "import arcpy, os, glob\n",
    "import pandas as pd\n",
    "\n",
    "local_dir = r\"C:\\SVK_2024\\pythonkörningar\"\n",
    "dgn_dir = r\"Q:\\Projekt\\Analys_2024\\DGN_2024\"\n",
    "gdb  = os.path.join(local_dir, \"Wires_241217.gdb\")\n",
    "\n",
    "LGs_info_path = r\"Q:\\Projekt\\Data_2024\\styrfiler\\veg_kanttrad_241217.txt\"\n",
    "cvd_LEDNINGSGATA_path = r\"U:\\Projekt\\Data\\Geodataunderlag_SVK\\cvd_LEDNINGSGATA.txt\"\n",
    "\n",
    "arcpy.env.overwriteOutput = True\n",
    "\n",
    "def wires_to_gdb(row):\n",
    "    # Ange i definitionen att row är en pandas serie\n",
    "    LG = row[\"LG\"]\n",
    "    line = row[\"line\"]\n",
    "    littera = row[\"Littera\"]\n",
    "    LG_code = cvd_LEDNINGSGATA[LG]\n",
    "    \n",
    "    print(f\"Påbörjar export av fas- och topplinor för {LG}_{line}, {littera}\")\n",
    "    \n",
    "    dgn = os.path.join(dgn_dir, f\"{LG}_{line}.dgn\")\n",
    "    arcpy.env.workspace = dgn_dir # Varför ska den ha dgn dir som workspace?\n",
    "    \n",
    "    # faslinor\n",
    "    fc_fas = f\"{LG}_{line}_fas\"\n",
    "    # Create a value table that will hold the input feature classes for Merge\n",
    "    vTab_fas = arcpy.ValueTable()\n",
    "    layer_fas = \"Layer_fas\"\n",
    "    arcpy.Delete_management(layer_fas)\n",
    "    arcpy.MakeFeatureLayer_management(dgn + '/Polyline', layer_fas, \"\\\"Level\\\" = 1\")\n",
    "    vTab_fas.addRow(layer_fas)\n",
    "        \n",
    "    # topplinor\n",
    "    fc_topp = f\"{LG}_{line}_topp\"\n",
    "    # Create a value table that will hold the input feature classes for Merge\n",
    "    vTab_topp = arcpy.ValueTable()\n",
    "    layer_topp = \"Layer_topp\"\n",
    "    arcpy.Delete_management(layer_topp)\n",
    "    arcpy.MakeFeatureLayer_management(dgn + '/Polyline', layer_topp, \"\\\"Level\\\" = 2\")\n",
    "    vTab_topp.addRow(layer_topp)\n",
    "    \n",
    "    # Merge the CAD features into one feature class\n",
    "    arcpy.env.workspace = gdb\n",
    "    \n",
    "    # faslinor\n",
    "    arcpy.Merge_management(vTab_fas, fc_fas)\n",
    "    # Add and populate littera field\n",
    "    arcpy.management.AddField(fc_fas, \"Littera\", \"TEXT\")\n",
    "    arcpy.management.CalculateField(fc_fas, \"Littera\", \"\".join((\"'\",littera,\"'\")))\n",
    "    arcpy.management.AddField(fc_fas, \"LG\", \"LONG\")\n",
    "    arcpy.management.CalculateField(fc_fas, \"LG\", int(LG_code))\n",
    "    arcpy.management.AddField(fc_fas, \"lintyp\", \"TEXT\")\n",
    "    arcpy.management.CalculateField(fc_fas, \"lintyp\", \"'ledare'\")\n",
    "    # domains\n",
    "    arcpy.management.AssignDomainToField(fc_fas, \"LG\", \"cvd_LEDNINGSGATA\")\n",
    "    arcpy.management.AssignDomainToField(fc_fas, \"Littera\", \"cvd_LITTERA_LEDNING\")\n",
    "    \n",
    "    # ta bort fält som inte ska användas DETTA BEHÖVER GÖRAS PÅ BÅDE FAS OCH TOPP MEN NUVARANDE \n",
    "    # UPPREPNING ÄR KLUMPIG\n",
    "    keep_fields = [\"LG\", \"Littera\", \"lintyp\", \"Shape\", \"Shape_Length\", \"OBJECTID\"]\n",
    "    all_fields = arcpy.ListFields(fc_fas)\n",
    "    fields_to_delete = [field.name for field in all_fields if field.name not in keep_fields]\n",
    "    if fields_to_delete:\n",
    "        arcpy.DeleteField_management(fc_fas, fields_to_delete)   \n",
    "\n",
    "    # Räkna faslinor, varna om inga finns\n",
    "    arcpy.management.DefineProjection(fc_fas, sr)\n",
    "    result = arcpy.management.GetCount(fc_fas)\n",
    "    count = int(result[0])\n",
    "    if count == 0:\n",
    "        print(f\"VARNING: Inga faslinor hittades i level 1 i {LG}_{line}.dgn\")\n",
    "    \n",
    "    # topplinor\n",
    "    arcpy.Merge_management(vTab_topp, fc_topp)\n",
    "    # Add and populate littera field\n",
    "    arcpy.management.AddField(fc_topp, \"Littera\", \"TEXT\")\n",
    "    arcpy.management.CalculateField(fc_topp, \"Littera\", \"\".join((\"'\",littera,\"'\")))\n",
    "    arcpy.management.AddField(fc_topp, \"LG\", \"LONG\")\n",
    "    arcpy.management.CalculateField(fc_topp, \"LG\", int(LG_code))\n",
    "    arcpy.management.AddField(fc_topp, \"lintyp\", \"TEXT\")\n",
    "    arcpy.management.CalculateField(fc_topp, \"lintyp\", \"'topplina'\")\n",
    "    # domains\n",
    "    arcpy.management.AssignDomainToField(fc_fas, \"LG\", \"cvd_LEDNINGSGATA\")\n",
    "    arcpy.management.AssignDomainToField(fc_fas, \"Littera\", \"cvd_LITTERA_LEDNING\")\n",
    "    \n",
    "    # ta bort fält som inte ska användas\n",
    "    keep_fields = [\"LG\", \"Littera\", \"lintyp\", \"Shape\", \"Shape_Length\", \"OBJECTID\"]\n",
    "    all_fields = arcpy.ListFields(fc_topp)\n",
    "    fields_to_delete = [field.name for field in all_fields if field.name not in keep_fields]\n",
    "    if fields_to_delete:\n",
    "        arcpy.DeleteField_management(fc_topp, fields_to_delete)\n",
    "    \n",
    "    arcpy.management.DefineProjection(fc_topp, sr)\n",
    "\n",
    "    # Räkna topplinor, varna om inga finns\n",
    "    result = arcpy.management.GetCount(fc_topp)\n",
    "    count = int(result[0])\n",
    "    if count == 0:\n",
    "        print(f\"VARNING: Inga topplinor hittades i level 2 i {LG}_{line}.dgn\")\n",
    "        \n",
    "    # Städa bort tillfälliga lager från minnet\n",
    "    arcpy.env.workspace = dgn_dir\n",
    "    arcpy.Delete_management(layer_fas)\n",
    "    arcpy.Delete_management(layer_topp)\n",
    "        \n",
    "# Sätt detta i en main-funktion för tydlighet?\n",
    "sr = arcpy.SpatialReference(\"SWEREF99_TM\", \"RH2000\")\n",
    "LGs_info = pd.read_csv(LGs_info_path, sep=\"\\t\", header=0)\n",
    "df_cvd_LEDNINGSGATA = pd.read_csv(cvd_LEDNINGSGATA_path, sep=\"\\t\", header=0)\n",
    "cvd_LEDNINGSGATA = {df_cvd_LEDNINGSGATA.LG[i]: df_cvd_LEDNINGSGATA.Code[i] for i in range(len(df_cvd_LEDNINGSGATA))}\n",
    "\n",
    "LGs_info.apply(wires_to_gdb, axis=1)\n"
   ]
  },
  {
   "cell_type": "code",
   "execution_count": 2,
   "metadata": {},
   "outputs": [
    {
     "name": "stdout",
     "output_type": "stream",
     "text": [
      "Antal featureklasser: 34\n",
      "LG013_1_fas: 1353 features\n",
      "LG013_1_topp: 26 features\n",
      "LG013_2_fas: 5 features\n",
      "LG013_2_topp: 3 features\n",
      "LG013_3_fas: 3 features\n",
      "LG013_3_topp: 2 features\n",
      "LG013_5_fas: 3 features\n",
      "LG013_5_topp: 2 features\n",
      "LG019_1_fas: 3 features\n",
      "LG019_1_topp: 2 features\n",
      "LG019_2_fas: 3 features\n",
      "LG019_2_topp: 2 features\n",
      "LG019_3_fas: 621 features\n",
      "LG019_3_topp: 414 features\n",
      "LG019_4_fas: 90 features\n",
      "LG019_4_topp: 60 features\n",
      "LG019_5_fas: 84 features\n",
      "LG019_5_topp: 56 features\n",
      "LG019_6_fas: 786 features\n",
      "LG019_6_topp: 524 features\n",
      "LG021_1_fas: 6 features\n",
      "LG021_1_topp: 4 features\n",
      "LG024_1_fas: 1614 features\n",
      "LG024_1_topp: 1077 features\n",
      "LG024_2_fas: 3 features\n",
      "LG024_2_topp: 3 features\n",
      "LG046_6_fas: 1002 features\n",
      "LG046_6_topp: 26 features\n",
      "LG046_7_fas: 54 features\n",
      "LG046_7_topp: 36 features\n",
      "LG046_8_fas: 60 features\n",
      "LG046_8_topp: 14 features\n",
      "LG557_1_fas: 723 features\n",
      "LG557_1_topp: 16 features\n"
     ]
    }
   ],
   "source": [
    "arcpy.env.workspace = gdb\n",
    "\n",
    "feature_classes = arcpy.ListFeatureClasses()\n",
    "print(f\"Antal featureklasser: {len(feature_classes)}\")\n",
    "\n",
    "for fc in feature_classes:\n",
    "    feature_count = int(arcpy.management.GetCount(fc)[0])\n",
    "    print(f\"{fc}: {feature_count} features\")"
   ]
  },
  {
   "cell_type": "code",
   "execution_count": null,
   "metadata": {},
   "outputs": [],
   "source": []
  }
 ],
 "metadata": {
  "kernelspec": {
   "display_name": "ArcGISPro",
   "language": "Python",
   "name": "python3"
  },
  "language_info": {
   "file_extension": ".py",
   "name": "python",
   "version": "3"
  }
 },
 "nbformat": 4,
 "nbformat_minor": 2
}
