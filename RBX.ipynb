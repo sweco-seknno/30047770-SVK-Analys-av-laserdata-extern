{
 "cells": [
  {
   "cell_type": "markdown",
   "id": "26a15b3d",
   "metadata": {},
   "source": [
    "# Importera rensade RBX från dgn till gdb\n",
    "Gör på detta sätt även 2022"
   ]
  },
  {
   "cell_type": "code",
   "execution_count": 15,
   "id": "2fe7f3d3",
   "metadata": {},
   "outputs": [
    {
     "name": "stdout",
     "output_type": "stream",
     "text": [
      "LG006\n",
      "Z:\\Systemutveckling\\Data\\Indata\\Exempeldata_2021\\DGN\\LG006_1.dgn\n",
      "vTab created\n",
      "MakeFeatureLayer complete\n",
      "Row added to vTab\n",
      "Z:\\Systemutveckling\\Data\\Indata\\Exempeldata_2021\\DGN\\LG006_2.dgn\n",
      "vTab created\n",
      "MakeFeatureLayer complete\n",
      "Row added to vTab\n",
      "vTab merged to output_fc\n",
      "Layer deleted\n",
      "LG009\n",
      "Z:\\Systemutveckling\\Data\\Indata\\Exempeldata_2021\\DGN\\LG009_1.dgn\n",
      "vTab created\n",
      "MakeFeatureLayer complete\n",
      "Row added to vTab\n",
      "vTab merged to output_fc\n",
      "Layer deleted\n"
     ]
    }
   ],
   "source": [
    "# Copy RBX from dgn to gdb feature class, one fc for each LGXXX_Y\n",
    "##############PROBLEM 2/12: THE POINTS IMPORTED \n",
    "import arcpy, os, glob, SVK\n",
    "from pathlib import Path\n",
    "\n",
    "LG_line_dict = {6:[1,2], 9:[1]} #\n",
    "\n",
    "prj_dir = r\"Z:\\Systemutveckling\\Data\\Indata\\Exempeldata_2021\"\n",
    "dgn_dir = os.path.join(prj_dir, \"DGN\")\n",
    "gdb = os.path.join(prj_dir, \"SVK_2021_GIS\", \"SVK_2021_GIS.gdb\")\n",
    "\n",
    "output_fd = os.path.join(gdb, \"clean_RBX_points\")\n",
    "\n",
    "\n",
    "def sweref99TM():\n",
    "    wkt = 'PROJCS[\"SWEREF99_TM\",GEOGCS[\"GCS_SWEREF99\",DATUM[\"D_SWEREF99\",SPHEROID[\"GRS_1980\",6378137,298.257222101]],PRIMEM[\"Greenwich\",0],UNIT[\"Degree\",0.017453292519943295]],PROJECTION[\"Transverse_Mercator\"],PARAMETER[\"latitude_of_origin\",0],PARAMETER[\"central_meridian\",15],PARAMETER[\"scale_factor\",0.9996],PARAMETER[\"false_easting\",500000],PARAMETER[\"false_northing\",0],UNIT[\"Meter\",1]]'\n",
    "    spatialref = arcpy.SpatialReference()\n",
    "    spatialref.loadFromString(wkt)\n",
    "    return(spatialref)\n",
    "\n",
    "sr = sweref99TM()\n",
    "\n",
    "\n",
    "for LG_nr in LG_line_dict:\n",
    "    os.chdir(dgn_dir)\n",
    "    LG = f'LG{str(LG_nr).zfill(3)}'\n",
    "    print(LG)\n",
    "    \n",
    "    for line in LG_line_dict[LG_nr]:\n",
    "        dgn = os.path.join(dgn_dir, LG+\"_\"+str(line)+\".dgn\") #\n",
    "        print(dgn)\n",
    "        \n",
    "        output_fc = os.path.join(output_fd, LG+\"_\"+str(line)+\"_RBX_clean\") #var punkterna ska exporteras till\n",
    "        \n",
    "        # Create a value table that will hold the input feature classes for Merge\n",
    "        vTab = arcpy.ValueTable()\n",
    "        print(\"vTab created\")\n",
    "        layername_RBX = dgn + '_Layer_LVL20' #RBX ligger i lager nr 20, typ lagernamn i AC.\n",
    "        # Behöver det vara unikt för varje del-ledning (line)? Fixa en try/except eller liknande som rensar \n",
    "        # bort detta lager vid krasch. Om det inte tas bort kommer det att ligga kvar och hindra cellen från att köra nästa gång\n",
    "        arcpy.MakeFeatureLayer_management(dgn + '/Point', layername_RBX, \"\\\"Level\\\" = 20\")\n",
    "        print(\"MakeFeatureLayer complete\")\n",
    "        vTab.addRow(layername_RBX)\n",
    "        print(\"Row added to vTab\")\n",
    "          \n",
    "    # Merge the CAD features into one feature class\n",
    "    arcpy.env.workspace = output_fd\n",
    "    arcpy.Merge_management(vTab, output_fc)\n",
    "    print(\"vTab merged to output_fc\")\n",
    "    \n",
    "    arcpy.Delete_management(layername_RBX)\n",
    "    print(\"Layer deleted\")\n",
    "\n",
    "    arcpy.env.workspace = dgn_dir\n",
    "    "
   ]
  },
  {
   "cell_type": "code",
   "execution_count": 14,
   "id": "3f44566c",
   "metadata": {},
   "outputs": [
    {
     "data": {
      "text/html": [
       "<div class='gpresult'><h2>Messages</h2><div id='messages' data-messages='[\"Start Time: den 25 november 2022 15:25:58\",\"WARNING 000110: Z:\\\\Systemutveckling\\\\Data\\\\Indata\\\\Exempeldata_2021\\\\DGN\\\\LG009_1.dgn_Layer_LVL20 does not exist\",\"Succeeded at den 25 november 2022 15:25:58 (Elapsed Time: 0,01 seconds)\"]' data-show='true'><div id = 'default' /></div></div>"
      ],
      "text/plain": [
       "<Result 'true'>"
      ]
     },
     "execution_count": 14,
     "metadata": {},
     "output_type": "execute_result"
    }
   ],
   "source": [
    "arcpy.Delete_management(\"Z:\\Systemutveckling\\Data\\Indata\\Exempeldata_2021\\DGN\\LG006_1.dgn_Layer_LVL20\")\n",
    "arcpy.Delete_management(\"Z:\\Systemutveckling\\Data\\Indata\\Exempeldata_2021\\DGN\\LG006_2.dgn_Layer_LVL20\")\n",
    "arcpy.Delete_management(\"Z:\\Systemutveckling\\Data\\Indata\\Exempeldata_2021\\DGN\\LG009_1.dgn_Layer_LVL20\")"
   ]
  },
  {
   "cell_type": "markdown",
   "id": "f9ca399a",
   "metadata": {},
   "source": [
    "# Near 3D - avstånd till fas för RBX"
   ]
  },
  {
   "cell_type": "code",
   "execution_count": 16,
   "id": "fe8ef88f",
   "metadata": {
    "scrolled": true
   },
   "outputs": [
    {
     "name": "stdout",
     "output_type": "stream",
     "text": [
      "LG är LG006, linje är 1, littera är UL29\n",
      "Z:\\Systemutveckling\\Data\\Indata\\Exempeldata_2021\\SVK_2021_GIS\\SVK_2021_GIS.gdb\\clean_RBX_points\\LG006_1_RBX_clean does not exist\n",
      "LG är LG006, linje är 2, littera är UL6 S2\n",
      "done with Near3D LG006_2_RBX_clean\n",
      "done with delete and alter field LG006_2_RBX_clean\n",
      "LG är LG009, linje är 1, littera är UL1 S1-3\n",
      "done with Near3D LG009_1_RBX_clean\n",
      "done with delete and alter field LG009_1_RBX_clean\n"
     ]
    },
    {
     "data": {
      "text/plain": [
       "0    None\n",
       "1    None\n",
       "2    None\n",
       "dtype: object"
      ]
     },
     "execution_count": 16,
     "metadata": {},
     "output_type": "execute_result"
    }
   ],
   "source": [
    "# This is where actual computations begin, previous steps are for arranging data\n",
    "# This version of the script reads RBX points from a 3D point feature class in an ESRI file geodatabase (gdb)\n",
    "# We can assume that future scripts will read RBX points from txt files: one file per TerraScan block,\n",
    "# with X, Y, Z, dZ for each point.\n",
    "\n",
    "import arcpy, os, glob, SVK\n",
    "arcpy.CheckOutExtension('3D')\n",
    "from pathlib import Path\n",
    "import pandas as pd\n",
    "\n",
    "LGs_info_path = r\"Z:\\Systemutveckling\\Data\\Indata\\Exempeldata_2021\\ledningar_2021.txt\"\n",
    "#gdb = r\"Z:\\26664\\6605189\\000\\Arbetsmapp_analys\\SVK_2021\\SVK_2021_GIS\\SVK_2021_GIS.gdb\"\n",
    "gdb = r\"Z:\\Systemutveckling\\Data\\Indata\\Exempeldata_2021\\SVK_2021_GIS\\SVK_2021_GIS.gdb\"\n",
    "fd_RBX = os.path.join(gdb, 'clean_RBX_points')\n",
    "fd_wires = os.path.join(gdb, 'Wires')\n",
    "\n",
    "\n",
    "def dist2wire(fd_RBX, fc_name_RBX, fc_wires, radius):\n",
    "    # Compute distance from RBX point to wire\n",
    "    fc_RBX = os.path.join(fd_RBX, fc_name_RBX)\n",
    "    arcpy.Near3D_3d(in_features=fc_RBX, \n",
    "                    near_features=fc_wires, \n",
    "                    search_radius=radius, \n",
    "                    location=\"NO_LOCATION\", \n",
    "                    angle=\"NO_ANGLE\", \n",
    "                    delta=\"NO_DELTA\")\n",
    "    print('done with Near3D '+fc_name_RBX)\n",
    "    arcpy.DeleteField_management(in_table=fc_RBX, drop_field=\"NEAR_FID\")\n",
    "    arcpy.DeleteField_management(in_table=fc_RBX, drop_field=\"NEAR_DIST\") # Vi ska redovisa horisontellt avstånd 2022 - behåll detta fält eller beräknas det i RBX_polygons.py?\n",
    "    arcpy.management.AlterField(in_table=fc_RBX, field=\"NEAR_DIST3\", new_field_name=\"AVST_FAS\", new_field_alias=\"AVST_FAS\")\n",
    "    print('done with delete and alter field '+fc_name_RBX)\n",
    "    # Diverse ändringar i DeleteField och AlterField som Karin ska skicka upp på GitHub\n",
    "    \n",
    "    \n",
    "def RBX_3D_distance(powerline):\n",
    "    LG = powerline[0]\n",
    "    line = powerline[1]\n",
    "    littera = powerline[4]\n",
    "    \n",
    "    print(f\"LG är {LG}, linje är {line}, littera är {littera}\")\n",
    "    \n",
    "    fc_name_RBX = f\"{LG}_{line}_RBX_clean\"\n",
    "    fc_name_wires = f\"{LG}_{line}_fas\"\n",
    "    fc_wires = os.path.join(fd_wires, fc_name_wires)\n",
    "    \n",
    "    if arcpy.Exists(os.path.join(fd_RBX, fc_name_RBX)):\n",
    "        dist2wire(fd_RBX, fc_name_RBX, fc_wires, 6)\n",
    "    else:\n",
    "        print(f\"{os.path.join(fd_RBX, fc_name_RBX)} does not exist\")\n",
    "\n",
    "# The file pointed at by LGs_info_path contains only the powerlines that should be\n",
    "# processed. So this file has to be updated each time we want to process a new set of\n",
    "# powerlines. This is unpractical - consider a user prompt where the user can select\n",
    "# which powerlines to process\n",
    "\n",
    "LGs_info = pd.read_csv(LGs_info_path, sep=\"\\t\", header=0)\n",
    "LGs_info.apply(RBX_3D_distance, axis=1)\n"
   ]
  },
  {
   "cell_type": "markdown",
   "id": "5b48f56e",
   "metadata": {},
   "source": [
    "# Kör RBX_polygon.py innan nästa cell körs\n",
    "### RBX_polygon.py gör polygoner av RBX-punkterna och delar in dem i \"farlighetsklass\", sätter minsta avstånd till fas för varje polygon osv"
   ]
  },
  {
   "cell_type": "markdown",
   "id": "8606fa1f",
   "metadata": {},
   "source": [
    "# Put RBX shape polygons in gdb"
   ]
  },
  {
   "cell_type": "code",
   "execution_count": 3,
   "id": "42d7847e",
   "metadata": {},
   "outputs": [
    {
     "name": "stdout",
     "output_type": "stream",
     "text": [
      "Converting LG661_1\n",
      "Converting LG661_2\n"
     ]
    },
    {
     "data": {
      "text/plain": [
       "0    None\n",
       "1    None\n",
       "dtype: object"
      ]
     },
     "execution_count": 3,
     "metadata": {},
     "output_type": "execute_result"
    }
   ],
   "source": [
    "import arcpy, os, glob, SVK\n",
    "from pathlib import Path\n",
    "import pandas as pd\n",
    "\n",
    "LGs_info_file = \"ledningar_2021_RBX_shp2gdb.txt\"\n",
    "prj_dir = r\"Z:\\26664\\6605189\\000\\Arbetsmapp_analys\\SVK_2021\"\n",
    "lev_dir = r\"Z:\\26664\\6605189\\000\\Projekt\\Utleveranser\\Skannat_2021\"\n",
    "RBX_shp_dir = os.path.join(prj_dir,\"RBX_polygons\")\n",
    "RBX_fd = os.path.join(lev_dir,\"Leverans_2022-02-11\",\"Leverans_2022-02-11.gdb\",\"RBX_polygoner\")\n",
    "\n",
    "LGs_info_path = os.path.join(prj_dir, LGs_info_file)\n",
    "\n",
    "def shp2gdb(powerline):\n",
    "    LG = powerline[0]\n",
    "    line = powerline[1]\n",
    "    \n",
    "    RBX_shp_path = os.path.join(RBX_shp_dir,f\"{LG}_{line}_RBX.shp\")\n",
    "    RBX_fc = f\"RBX_{LG}_{line}\"\n",
    "    \n",
    "    if os.path.exists(RBX_shp_path):\n",
    "        print(f\"Converting {LG}_{line}\")\n",
    "        arcpy.conversion.FeatureClassToFeatureClass(RBX_shp_path, RBX_fd, RBX_fc)\n",
    "    else:\n",
    "        print(f\"No RBX for {LG}_{line}\")\n",
    "\n",
    "LGs_info = pd.read_csv(LGs_info_path, sep=\"\\t\", header=0)\n",
    "LGs_info.apply(shp2gdb, axis=1)"
   ]
  },
  {
   "cell_type": "markdown",
   "id": "1b134696",
   "metadata": {},
   "source": [
    "# Merge RBX polygons"
   ]
  },
  {
   "cell_type": "code",
   "execution_count": 4,
   "id": "4b0f180e",
   "metadata": {},
   "outputs": [
    {
     "name": "stdout",
     "output_type": "stream",
     "text": [
      "Copying LG006_2\n",
      "Done\n",
      "Copying LG006_4\n",
      "Done\n",
      "Copying LG006_6\n",
      "Done\n",
      "Copying LG011_1\n",
      "Done\n",
      "Copying LG014_3\n",
      "Done\n",
      "Copying LG027_1\n",
      "Done\n",
      "Copying LG037_5\n",
      "Done\n",
      "Copying LG042_1\n",
      "Done\n",
      "Copying LG043_4\n",
      "Done\n",
      "Copying LG044_2\n",
      "Done\n",
      "Copying LG044_3\n",
      "Done\n",
      "Copying LG044_5\n",
      "Done\n",
      "Copying LG060_2\n",
      "Done\n",
      "Copying LG061_1\n",
      "Done\n",
      "Copying LG068_2\n",
      "Done\n",
      "Copying LG068_4\n",
      "Done\n",
      "Copying LG068_6\n",
      "Done\n",
      "Copying LG068_8\n",
      "Done\n",
      "Copying LG082_2\n",
      "Done\n",
      "Copying LG082_4\n",
      "Done\n",
      "Copying LG082_5\n",
      "Done\n",
      "Copying LG083_1\n",
      "Done\n",
      "Copying LG093_1\n",
      "Done\n",
      "Copying LG115_1\n",
      "Done\n",
      "Copying LG115_2\n",
      "Done\n",
      "Copying LG122_2\n",
      "Done\n",
      "Copying LG122_3\n",
      "Done\n"
     ]
    },
    {
     "data": {
      "text/plain": [
       "0     None\n",
       "1     None\n",
       "2     None\n",
       "3     None\n",
       "4     None\n",
       "5     None\n",
       "6     None\n",
       "7     None\n",
       "8     None\n",
       "9     None\n",
       "10    None\n",
       "11    None\n",
       "12    None\n",
       "13    None\n",
       "14    None\n",
       "15    None\n",
       "16    None\n",
       "17    None\n",
       "18    None\n",
       "19    None\n",
       "20    None\n",
       "21    None\n",
       "22    None\n",
       "23    None\n",
       "24    None\n",
       "25    None\n",
       "26    None\n",
       "dtype: object"
      ]
     },
     "execution_count": 4,
     "metadata": {},
     "output_type": "execute_result"
    }
   ],
   "source": [
    "# FÖRST: Lägg RBX-polygoner i datummärkt leverans-gdb\n",
    "\n",
    "LGs_info_file = \"ledningar_2021_sample.txt\"\n",
    "\n",
    "prj_dir = r\"Z:\\26664\\6605189\\000\\Arbetsmapp_analys\\SVK_2021\"\n",
    "RBX_fd = os.path.join(prj_dir,\"SVK_2021_GIS\",\"SVK_2021_GIS.gdb\",\"RBX_polygons\")\n",
    "\n",
    "leverans_gdb = r\"Z:\\26664\\6605189\\000\\Projekt\\Utleveranser\\Skannat_2021\\Leverans_2022-01-24\\Leverans_2022-01-24.gdb\"\n",
    "leverans_fd = os.path.join(leverans_gdb, \"RBX_polygons\")\n",
    "\n",
    "LGs_info_path = os.path.join(prj_dir, LGs_info_file)\n",
    "\n",
    "def copyRBX(powerline):\n",
    "    LG = powerline[0]\n",
    "    line = powerline[1]\n",
    "    \n",
    "    RBX_src = os.path.join(RBX_fd, f\"RBX_{LG}_{line}\")\n",
    "    RBX_dst = os.path.join(leverans_fd, f\"RBX_{LG}_{line}\")\n",
    "    \n",
    "    print(f\"Copying {LG}_{line}\")\n",
    "    arcpy.management.CopyFeatures(RBX_src, RBX_dst)\n",
    "    print(\"Done\")\n",
    "\n",
    "LGs_info = pd.read_csv(LGs_info_path, sep=\"\\t\", header=0)\n",
    "LGs_info.apply(copyRBX, axis=1)"
   ]
  },
  {
   "cell_type": "code",
   "execution_count": 2,
   "id": "0c9225f2",
   "metadata": {},
   "outputs": [],
   "source": [
    "gdb = r\"Z:\\26664\\6605189\\000\\Projekt\\Utleveranser\\Skannat_2021\\Leverans_2022-01-24\\Leverans_2022-01-24.gdb\"\n",
    "\n",
    "outFcName = \"RBX24jan\"\n",
    "\n",
    "inDB = gdb + \"\\\\\" + \"RBX_polygons\"\n",
    "outDB = gdb\n",
    "\n",
    "arcpy.env.workspace= inDB\n",
    "\n",
    "polyList = list()\n",
    "\n",
    "for featClass in arcpy.ListFeatureClasses():\n",
    "#for featClass in fcNameList:\n",
    "    print(featClass)\n",
    "    desc = arcpy.Describe(inDB + \"\\\\\" + featClass)\n",
    "    if desc.shapeType == \"Polygon\":\n",
    "        polyList.append(inDB + \"\\\\\" + featClass)\n"
   ]
  },
  {
   "cell_type": "code",
   "execution_count": 13,
   "id": "4a646728",
   "metadata": {},
   "outputs": [
    {
     "name": "stdout",
     "output_type": "stream",
     "text": [
      "Z:\\26664\\6605189\\000\\Projekt\\Utleveranser\\Skannat_2021\\Leverans_2021-01-20\\Leverans_2022-01-20.gdb\\RBX20jan\n"
     ]
    }
   ],
   "source": [
    "print(outDB + \"\\\\\" + outFcName)"
   ]
  },
  {
   "cell_type": "code",
   "execution_count": 14,
   "id": "9037b9aa",
   "metadata": {},
   "outputs": [],
   "source": [
    "if len(polyList) > 0:\n",
    "    arcpy.Merge_management(polyList, outDB + \"\\\\\" + outFcName)"
   ]
  },
  {
   "cell_type": "code",
   "execution_count": 21,
   "id": "683770c6",
   "metadata": {},
   "outputs": [
    {
     "name": "stdout",
     "output_type": "stream",
     "text": [
      "vTab created\n",
      "MakeFeatureLayer complete\n",
      "Row added to vTab_RBX\n",
      "vTab merged to output_fc\n",
      "Layer deleted\n"
     ]
    }
   ],
   "source": [
    "# Copy RBX from dgn to gdb feature class, one fc for each LGXXX_Y\n",
    "##############PROBLEM 2/12: THE POINTS IMPORTED \n",
    "import arcpy, os, glob, SVK\n",
    "from pathlib import Path\n",
    "\n",
    "LG_line_dict = {28:[5]}\n",
    "\n",
    "prj_dir = r\"C:\\Users\\SEKNNO\\OneDrive - Sweco AB\\SVK_2022\\Testleverans_LG028\"\n",
    "dgn_dir = r\"C:\\Users\\SEKNNO\\OneDrive - Sweco AB\\SVK_2022\\Testleverans_LG028\\LG028\"\n",
    "gdb = r\"C:\\Users\\SEKNNO\\OneDrive - Sweco AB\\SVK_2022\\SVK_2022_GIS\\SVK_2022_GIS.gdb\"\n",
    "\n",
    "output_fd = os.path.join(gdb, \"RBX_test_deleteme\")\n",
    "output_fc = \"DELETEME_RBX_LG028_5_clean\"\n",
    "\n",
    "def sweref99TM():\n",
    "    wkt = 'PROJCS[\"SWEREF99_TM\",GEOGCS[\"GCS_SWEREF99\",DATUM[\"D_SWEREF99\",SPHEROID[\"GRS_1980\",6378137,298.257222101]],PRIMEM[\"Greenwich\",0],UNIT[\"Degree\",0.017453292519943295]],PROJECTION[\"Transverse_Mercator\"],PARAMETER[\"latitude_of_origin\",0],PARAMETER[\"central_meridian\",15],PARAMETER[\"scale_factor\",0.9996],PARAMETER[\"false_easting\",500000],PARAMETER[\"false_northing\",0],UNIT[\"Meter\",1]]'\n",
    "    spatialref = arcpy.SpatialReference()\n",
    "    spatialref.loadFromString(wkt)\n",
    "    return(spatialref)\n",
    "\n",
    "sr = sweref99TM()\n",
    "\n",
    "# Create a value table that will hold the input feature classes for Merge\n",
    "layer_RBX = \"Layer_RBX\"\n",
    "arcpy.Delete_management(layer_RBX)\n",
    "\n",
    "vTab_RBX = arcpy.ValueTable()\n",
    "print(\"vTab created\")\n",
    "\n",
    "arcpy.MakeFeatureLayer_management(dgn + '/Point', layer_RBX, \"\\\"Level\\\" = 5\")\n",
    "print(\"MakeFeatureLayer complete\")\n",
    "vTab_RBX.addRow(layer_RBX)\n",
    "print(\"Row added to vTab_RBX\")\n",
    "\n",
    "# Merge the CAD features into one feature class\n",
    "arcpy.env.workspace = output_fd\n",
    "arcpy.Merge_management(vTab_RBX, output_fc)\n",
    "print(\"vTab merged to output_fc\")\n",
    "\n",
    "arcpy.Delete_management(layer_RBX)\n",
    "print(\"Layer deleted\")\n",
    "arcpy.env.workspace = dgn_dir"
   ]
  },
  {
   "cell_type": "code",
   "execution_count": 16,
   "id": "53d49af2",
   "metadata": {},
   "outputs": [
    {
     "data": {
      "text/plain": [
       "0"
      ]
     },
     "execution_count": 16,
     "metadata": {},
     "output_type": "execute_result"
    }
   ],
   "source": [
    "vTab.rowCount"
   ]
  },
  {
   "cell_type": "code",
   "execution_count": null,
   "id": "cdcfca54",
   "metadata": {},
   "outputs": [],
   "source": []
  }
 ],
 "metadata": {
  "kernelspec": {
   "display_name": "Python 3",
   "language": "python",
   "name": "python3"
  },
  "language_info": {
   "codemirror_mode": {
    "name": "ipython",
    "version": 3
   },
   "file_extension": ".py",
   "mimetype": "text/x-python",
   "name": "python",
   "nbconvert_exporter": "python",
   "pygments_lexer": "ipython3",
   "version": "3.9.11"
  }
 },
 "nbformat": 4,
 "nbformat_minor": 5
}
